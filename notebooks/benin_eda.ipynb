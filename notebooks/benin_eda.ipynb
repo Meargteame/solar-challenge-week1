{
 "cells": [
  {
   "cell_type": "code",
   "execution_count": 3,
   "id": "32a72b36",
   "metadata": {},
   "outputs": [
    {
     "ename": "ModuleNotFoundError",
     "evalue": "No module named 'pandas'",
     "output_type": "error",
     "traceback": [
      "\u001b[31m---------------------------------------------------------------------------\u001b[39m",
      "\u001b[31mModuleNotFoundError\u001b[39m                       Traceback (most recent call last)",
      "\u001b[36mCell\u001b[39m\u001b[36m \u001b[39m\u001b[32mIn[3]\u001b[39m\u001b[32m, line 1\u001b[39m\n\u001b[32m----> \u001b[39m\u001b[32m1\u001b[39m \u001b[38;5;28;01mimport\u001b[39;00m\u001b[38;5;250m \u001b[39m\u001b[34;01mpandas\u001b[39;00m\u001b[38;5;250m \u001b[39m\u001b[38;5;28;01mas\u001b[39;00m\u001b[38;5;250m \u001b[39m\u001b[34;01mpd\u001b[39;00m\n\u001b[32m      3\u001b[39m df = pd.read_csv(\u001b[33m\"\u001b[39m\u001b[33m../data/benin-malamville.csv\u001b[39m\u001b[33m\"\u001b[39m)\n",
      "\u001b[31mModuleNotFoundError\u001b[39m: No module named 'pandas'"
     ]
    }
   ],
   "source": [
    "import pandas as pd\n",
    "\n",
    "df = pd.read_csv(\"../data/benin-malamville.csv\")"
   ]
  },
  {
   "cell_type": "code",
   "execution_count": null,
   "id": "773e6474",
   "metadata": {},
   "outputs": [],
   "source": [
    "df.info()  # Data types and non-null counts\n",
    "df.head()  # First 5 rows\n"
   ]
  },
  {
   "cell_type": "code",
   "execution_count": null,
   "id": "fd923ccd",
   "metadata": {},
   "outputs": [],
   "source": [
    "df.describe(include=\"all\")  # For all columns"
   ]
  },
  {
   "cell_type": "code",
   "execution_count": null,
   "id": "6ebdb57a",
   "metadata": {},
   "outputs": [],
   "source": [
    "missing_percent = df.isna().sum() / len(df) * 100\n",
    "missing_percent[missing_percent > 5]  # Columns with >5% nulls"
   ]
  },
  {
   "cell_type": "code",
   "execution_count": null,
   "id": "9e150691",
   "metadata": {},
   "outputs": [],
   "source": [
    "from scipy import stats\n",
    "\n",
    "z_scores = stats.zscore(df[[\"GHI\", \"DNI\", \"DHI\", \"ModA\", \"ModB\", \"WS\", \"WSgust\"]])\n",
    "outliers = (abs(z_scores) > 3).any(axis=1)\n",
    "df_clean = df[~outliers].copy()"
   ]
  },
  {
   "cell_type": "code",
   "execution_count": null,
   "id": "029a934d",
   "metadata": {},
   "outputs": [],
   "source": [
    "df_clean.fillna(df_clean.median(), inplace=True)"
   ]
  },
  {
   "cell_type": "code",
   "execution_count": null,
   "id": "9cbeb6a8",
   "metadata": {},
   "outputs": [],
   "source": [
    "import seaborn as sns\n",
    "\n",
    "sns.heatmap(df_clean[[\"GHI\", \"DNI\", \"DHI\", \"TModA\", \"TModB\"]].corr(), annot=True)"
   ]
  },
  {
   "cell_type": "code",
   "execution_count": null,
   "id": "8835ad11",
   "metadata": {},
   "outputs": [],
   "source": [
    "from windrose import WindroseAxes  # Install with `pip install windrose`\n",
    "\n",
    "ax = WindroseAxes.from_ax()\n",
    "ax.bar(df_clean[\"WD\"], df_clean[\"WS\"], bins=6)\n",
    "ax.set_legend()"
   ]
  },
  {
   "cell_type": "code",
   "execution_count": null,
   "id": "a9e0cf76",
   "metadata": {},
   "outputs": [],
   "source": [
    "plt.scatter(df_clean[\"Tamb\"], df_clean[\"GHI\"], s=df_clean[\"RH\"] / 10)\n",
    "plt.xlabel(\"Ambient Temp (°C)\")\n",
    "plt.ylabel(\"GHI (W/m²)\")"
   ]
  },
  {
   "cell_type": "code",
   "execution_count": null,
   "id": "75ed0ea7",
   "metadata": {},
   "outputs": [],
   "source": [
    "df_clean.to_csv(\"../data/benin_clean.csv\", index=False)"
   ]
  },
  {
   "cell_type": "markdown",
   "id": "86134cc3",
   "metadata": {},
   "source": [
    "### Key Observations:\n",
    "\n",
    "- Benin's GHI peaks at [time] with [value] W/m².\n",
    "- Cleaning events improve ModA efficiency by [X]%.\n",
    "- Strong correlation between [feature] and [feature].\n"
   ]
  },
  {
   "cell_type": "code",
   "execution_count": null,
   "id": "5e27542f",
   "metadata": {},
   "outputs": [],
   "source": []
  }
 ],
 "metadata": {
  "kernelspec": {
   "display_name": "Python 3",
   "language": "python",
   "name": "python3"
  },
  "language_info": {
   "codemirror_mode": {
    "name": "ipython",
    "version": 3
   },
   "file_extension": ".py",
   "mimetype": "text/x-python",
   "name": "python",
   "nbconvert_exporter": "python",
   "pygments_lexer": "ipython3",
   "version": "3.12.10"
  }
 },
 "nbformat": 4,
 "nbformat_minor": 5
}
