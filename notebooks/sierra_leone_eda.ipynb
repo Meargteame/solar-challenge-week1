{
 "cells": [
  {
   "cell_type": "code",
   "execution_count": null,
   "id": "4da5d2fc",
   "metadata": {},
   "outputs": [],
   "source": [
    "import pandas as pd\n",
    "\n",
    "df_sl = pd.read_csv(\"../data/sierraleone-bumbuna.csv\")  # Adjust filename if different\n",
    "df_sl.info()\n",
    "df_sl.head()"
   ]
  },
  {
   "cell_type": "code",
   "execution_count": null,
   "id": "d3da6895",
   "metadata": {},
   "outputs": [],
   "source": [
    "# Summary stats\n",
    "df_sl.describe(include=\"all\")\n",
    "\n",
    "# Missing values (>5%)\n",
    "missing_sl = df_sl.isna().sum() / len(df_sl) * 100\n",
    "missing_sl[missing_sl > 5]"
   ]
  },
  {
   "cell_type": "code",
   "execution_count": null,
   "id": "c2118fd2",
   "metadata": {},
   "outputs": [],
   "source": [
    "from scipy import stats\n",
    "\n",
    "z_scores_sl = stats.zscore(df_sl[[\"GHI\", \"DNI\", \"DHI\", \"ModA\", \"ModB\", \"WS\", \"WSgust\"]])\n",
    "outliers_sl = (abs(z_scores_sl) > 3).any(axis=1)\n",
    "df_sl_clean = df_sl[~outliers_sl].copy()"
   ]
  },
  {
   "cell_type": "code",
   "execution_count": null,
   "id": "cde41a1a",
   "metadata": {},
   "outputs": [],
   "source": [
    "df_sl_clean[\"Timestamp\"] = pd.to_datetime(df_sl_clean[\"Timestamp\"])\n",
    "df_sl_clean.set_index(\"Timestamp\", inplace=True)\n",
    "df_sl_clean[\"GHI\"].resample(\"D\").mean().plot(title=\"Sierra Leone: Daily GHI\")"
   ]
  },
  {
   "cell_type": "code",
   "execution_count": null,
   "id": "b5ea0669",
   "metadata": {},
   "outputs": [],
   "source": [
    "df_sl_clean.groupby(\"Cleaning\")[[\"ModA\", \"ModB\"]].mean().plot(kind=\"bar\")"
   ]
  },
  {
   "cell_type": "code",
   "execution_count": null,
   "id": "cff25680",
   "metadata": {},
   "outputs": [],
   "source": [
    "sns.heatmap(df_sl_clean[[\"GHI\", \"DNI\", \"DHI\", \"TModA\", \"TModB\"]].corr(), annot=True)"
   ]
  },
  {
   "cell_type": "code",
   "execution_count": null,
   "id": "609dcfa2",
   "metadata": {},
   "outputs": [],
   "source": [
    "from windrose import WindroseAxes\n",
    "\n",
    "ax = WindroseAxes.from_ax()\n",
    "ax.bar(df_sl_clean[\"WD\"], df_sl_clean[\"WS\"], bins=6)\n",
    "ax.set_legend(title=\"Wind Speed (m/s)\")"
   ]
  },
  {
   "cell_type": "code",
   "execution_count": null,
   "id": "36650fa0",
   "metadata": {},
   "outputs": [],
   "source": [
    "plt.scatter(df_sl_clean[\"Tamb\"], df_sl_clean[\"GHI\"], s=df_sl_clean[\"RH\"] / 10)\n",
    "plt.xlabel(\"Ambient Temp (°C)\")\n",
    "plt.ylabel(\"GHI (W/m²)\")\n",
    "plt.title(\"Sierra Leone: GHI vs. Temp (Bubble=RH)\")"
   ]
  },
  {
   "cell_type": "code",
   "execution_count": null,
   "id": "819c9ac7",
   "metadata": {},
   "outputs": [],
   "source": [
    "df_sl_clean.to_csv(\"../data/sierraleone_clean.csv\", index=False)"
   ]
  },
  {
   "cell_type": "markdown",
   "id": "9b9b9acf",
   "metadata": {},
   "source": [
    "### Sierra Leone Findings:\n",
    "\n",
    "- **Peak GHI**: [Value] W/m² at [Time].\n",
    "- **Wind Patterns**: Dominant direction: [Direction] at [Speed] m/s.\n",
    "- **Cleaning Impact**: ModA efficiency increased by [X]% post-cleaning.\n"
   ]
  }
 ],
 "metadata": {
  "language_info": {
   "name": "python"
  }
 },
 "nbformat": 4,
 "nbformat_minor": 5
}
