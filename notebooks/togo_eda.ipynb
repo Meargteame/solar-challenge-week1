{
 "cells": [
  {
   "cell_type": "code",
   "execution_count": null,
   "id": "9f10dead",
   "metadata": {},
   "outputs": [],
   "source": [
    "df_tg = pd.read_csv(\"../data/togo-dapaong.csv\")  # Adjust filename if needed\n",
    "df_tg.info()\n",
    "df_tg.head()"
   ]
  },
  {
   "cell_type": "code",
   "execution_count": null,
   "id": "3c519b2e",
   "metadata": {},
   "outputs": [],
   "source": [
    "df_tg.describe(include=\"all\")\n",
    "missing_tg = df_tg.isna().sum() / len(df_tg) * 100\n",
    "missing_tg[missing_tg > 5]"
   ]
  },
  {
   "cell_type": "code",
   "execution_count": null,
   "id": "a9863f37",
   "metadata": {},
   "outputs": [],
   "source": [
    "z_scores_tg = stats.zscore(df_tg[[\"GHI\", \"DNI\", \"DHI\", \"ModA\", \"ModB\", \"WS\", \"WSgust\"]])\n",
    "outliers_tg = (abs(z_scores_tg) > 3).any(axis=1)\n",
    "df_tg_clean = df_tg[~outliers_tg].copy()"
   ]
  },
  {
   "cell_type": "code",
   "execution_count": null,
   "id": "09ec36b7",
   "metadata": {},
   "outputs": [],
   "source": [
    "df_tg_clean[\"Timestamp\"] = pd.to_datetime(df_tg_clean[\"Timestamp\"])\n",
    "df_tg_clean.set_index(\"Timestamp\", inplace=True)\n",
    "df_tg_clean[\"GHI\"].resample(\"M\").mean().plot(title=\"Togo: Monthly GHI Trends\")"
   ]
  },
  {
   "cell_type": "code",
   "execution_count": null,
   "id": "9231c6d7",
   "metadata": {},
   "outputs": [],
   "source": [
    "df_tg_clean.groupby(\"Cleaning\")[[\"ModA\", \"ModB\"]].std().plot(\n",
    "    kind=\"bar\"\n",
    ")  # Compare variability"
   ]
  },
  {
   "cell_type": "code",
   "execution_count": null,
   "id": "5310ef17",
   "metadata": {},
   "outputs": [],
   "source": [
    "sns.heatmap(df_tg_clean[[\"GHI\", \"DNI\", \"DHI\", \"RH\", \"Tamb\"]].corr(), annot=True)"
   ]
  },
  {
   "cell_type": "code",
   "execution_count": null,
   "id": "34ec333b",
   "metadata": {},
   "outputs": [],
   "source": [
    "ax = WindroseAxes.from_ax()\n",
    "ax.bar(df_tg_clean[\"WD\"], df_tg_clean[\"WSgust\"], bins=6)  # Focus on gusts\n",
    "ax.set_legend(title=\"Gust Speed (m/s)\")"
   ]
  },
  {
   "cell_type": "code",
   "execution_count": null,
   "id": "c87edc2a",
   "metadata": {},
   "outputs": [],
   "source": [
    "plt.scatter(df_tg_clean[\"Precipitation\"], df_tg_clean[\"GHI\"])\n",
    "plt.xlabel(\"Precipitation (mm/min)\")\n",
    "plt.ylabel(\"GHI (W/m²)\")"
   ]
  },
  {
   "cell_type": "code",
   "execution_count": null,
   "id": "ed09d42c",
   "metadata": {},
   "outputs": [],
   "source": [
    "df_tg_clean.to_csv(\"../data/togo_clean.csv\", index=False)"
   ]
  },
  {
   "cell_type": "markdown",
   "id": "390416bb",
   "metadata": {},
   "source": [
    "### Togo Findings:\n",
    "\n",
    "- **GHI Variability**: Highest in [Month] due to [reason].\n",
    "- **Precipitation Impact**: GHI drops by [X]% during rain.\n"
   ]
  }
 ],
 "metadata": {
  "language_info": {
   "name": "python"
  }
 },
 "nbformat": 4,
 "nbformat_minor": 5
}
